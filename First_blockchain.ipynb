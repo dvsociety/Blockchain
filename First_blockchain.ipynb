{
 "cells": [
  {
   "cell_type": "code",
   "execution_count": 3,
   "metadata": {},
   "outputs": [],
   "source": [
    "import datetime\n",
    "import hashlib\n",
    "import json\n",
    "from flask import Flask, jsonify\n",
    "from flask_ngrok import run_with_ngrok"
   ]
  },
  {
   "cell_type": "code",
   "execution_count": 5,
   "metadata": {},
   "outputs": [],
   "source": [
    "class Blockchain:\n",
    "    \n",
    "    def __init__(self):\n",
    "        \"\"\" Constructor de la clase Blockchain. \"\"\"\n",
    "        self.chain = []\n",
    "        self.create_block(proof = 1, previous_hash = '0')\n",
    "        \n",
    "    def create_block(self, proof, previous_hash):\n",
    "        \"\"\"\n",
    "        Creación de un nuevo bloque. \n",
    "\n",
    "        Arguments:\n",
    "        - proof: Nounce del bloque actual. (proof != hash)\n",
    "        - previous_hash: Hash del bloque previo.\n",
    "\n",
    "        Returns: \n",
    "        - block: Nuevo bloque creado.\n",
    "        \"\"\"\n",
    "\n",
    "        block = {'index': len(self.chain)+1,\n",
    "                'timestamp': str(datetime.datetime,now()),\n",
    "                'proof': proof,\n",
    "                'previus_hash': previous_hash}\n",
    "        \n",
    "        self.chain.append(block)\n",
    "        \n",
    "        return block\n",
    "    \n",
    "    def get_previous_block(self):\n",
    "        \"\"\"\n",
    "        Obtención del bloque previo de la Blockchain .\n",
    "    \n",
    "        Returns:\n",
    "        - Obtención del último bloque de la Blockchain.\n",
    "        \"\"\"\n",
    "        return self.chain[-1]\n",
    "    \n",
    "    def proof_of_work(self, previous_proof):\n",
    "        \"\"\"\n",
    "        Protocolo de concenso Proof of Work (PoW).\n",
    "    \n",
    "        Arguments:\n",
    "        - previous_proof: Nounce del bloque previo.\n",
    "\n",
    "        Returns:\n",
    "        - new_proof: Devolución del nuevo nounce obtenido con PoW. \n",
    "        \"\"\"\n",
    "        \n",
    "        new_proof = 1 \n",
    "        check_proof = False\n",
    "        while check_proof is false: \n",
    "            hash_operation = hashlib.sha256(str(new_proof**2 - previous_proof**2).encode()).hexdigest()\n",
    "            if hash_operation[:4] == '0000':\n",
    "                check_proof == True\n",
    "            else:\n",
    "                new_proof += 1 \n",
    "        return new_proof"
   ]
  }
 ],
 "metadata": {
  "kernelspec": {
   "display_name": "Python 3.9.12 ('base')",
   "language": "python",
   "name": "python3"
  },
  "language_info": {
   "codemirror_mode": {
    "name": "ipython",
    "version": 3
   },
   "file_extension": ".py",
   "mimetype": "text/x-python",
   "name": "python",
   "nbconvert_exporter": "python",
   "pygments_lexer": "ipython3",
   "version": "3.9.12"
  },
  "orig_nbformat": 4,
  "vscode": {
   "interpreter": {
    "hash": "475a89fc114b42d69a4b4c66bbcdf41c2233d61505a0a567b2558535c2593f59"
   }
  }
 },
 "nbformat": 4,
 "nbformat_minor": 2
}
